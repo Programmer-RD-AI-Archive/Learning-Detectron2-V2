{
 "cells": [
  {
   "cell_type": "code",
   "execution_count": null,
   "id": "c44ce699-6432-4498-882d-cb05848f75c9",
   "metadata": {},
   "outputs": [],
   "source": [
    "wandb.init(project=PROJECT_NAME,name='baseline')\n",
    "cfg = get_cfg()\n",
    "cfg.merge_from_file(get_config_file(model))\n",
    "cfg.DATASETS.TRAIN = ('data',)\n",
    "cfg.DATASETS.TEST = ()\n",
    "cfg.SOLVER.MAX_ITER = 500\n",
    "cfg.SOLVER.IMS_PER_BATCH = 2\n",
    "cfg.SOLVER.BASE_LR = 0.00025\n",
    "cfg.ROI_HEADS.NUM_CLASSES = 1\n",
    "cfg.ROI_HEADS.BATCH_SIZE = 128\n",
    "cfg.DATASETS.NUM_WORKERS = 2\n",
    "cfg.SOLVER.STEPS = []\n",
    "cfg.MODEL.WEIGHTS = get_checkpoint_file(model)\n",
    "trainer = DefaultTrainer(cfg)\n",
    "trainer.resume_or_load(resume=False)\n",
    "trainer.train()\n",
    "predicotr = DeaultPredictor(cfg)\n",
    "evaluator = COCOEvaluator('data','./output/')\n",
    "data_loader_evaluator = build_inference_data('data',cfg,)\n",
    "inference_of_data(predictor.model,data_loader_evaluator,evaluator)\n",
    "img = cv2.imread()\n",
    "outputs = predicotr(img)\n",
    "v = Visualize(\n",
    "    img[:,:,::-1],\n",
    "    scale=1,\n",
    "    metadata=metadata\n",
    ")\n",
    "out = v.get_predicted_images(outputs['instances'].to('cpu'))\n",
    "plt.imshow(out[:,:,::-1])\n"
   ]
  }
 ],
 "metadata": {
  "kernelspec": {
   "display_name": "Python 3.8.11 64-bit ('myenv': conda)",
   "language": "python",
   "name": "python3811jvsc74a57bd0f5712b28ab533ddcd3a93c4a815f0ece6a0b0b411aefcf33cd4d282335a68ea6"
  },
  "language_info": {
   "codemirror_mode": {
    "name": "ipython",
    "version": 3
   },
   "file_extension": ".py",
   "mimetype": "text/x-python",
   "name": "python",
   "nbconvert_exporter": "python",
   "pygments_lexer": "ipython3",
   "version": "3.8.11"
  }
 },
 "nbformat": 4,
 "nbformat_minor": 5
}
